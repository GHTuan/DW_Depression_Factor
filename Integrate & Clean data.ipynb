{
  "cells": [
    {
      "cell_type": "markdown",
      "metadata": {
        "id": "5D-K4nW9faEX"
      },
      "source": [
        "# Load (Integrate) data"
      ]
    },
    {
      "cell_type": "code",
      "execution_count": 5,
      "metadata": {
        "id": "odR84m2LemGl"
      },
      "outputs": [],
      "source": [
        "# Import libraries\n",
        "import numpy as np\n",
        "import pandas as pd\n",
        "\n",
        "import os"
      ]
    },
    {
      "cell_type": "code",
      "execution_count": 6,
      "metadata": {
        "id": "63xQD0tnecJJ"
      },
      "outputs": [],
      "source": [
        "# Read data from csv files\n",
        "data_path = './data/'\n",
        "\n",
        "professional_df = pd.read_csv(os.path.join(data_path, 'Depression_Professional_Dataset.csv'))\n",
        "student_df = pd.read_csv(os.path.join(data_path, 'Depression_Student_Dataset.csv'))"
      ]
    },
    {
      "cell_type": "markdown",
      "metadata": {
        "id": "Y6Iwd7fLfqYI"
      },
      "source": [
        "## Overview"
      ]
    },
    {
      "cell_type": "code",
      "execution_count": 7,
      "metadata": {
        "colab": {
          "base_uri": "https://localhost:8080/"
        },
        "id": "hkkJk3Wme28Z",
        "outputId": "ed7124fb-1ef7-4c47-dd65-58081744f6c2"
      },
      "outputs": [
        {
          "name": "stdout",
          "output_type": "stream",
          "text": [
            "<class 'pandas.core.frame.DataFrame'>\n",
            "RangeIndex: 2054 entries, 0 to 2053\n",
            "Data columns (total 11 columns):\n",
            " #   Column                                 Non-Null Count  Dtype  \n",
            "---  ------                                 --------------  -----  \n",
            " 0   Gender                                 2054 non-null   object \n",
            " 1   Age                                    2054 non-null   int64  \n",
            " 2   Work Pressure                          2054 non-null   float64\n",
            " 3   Job Satisfaction                       2054 non-null   float64\n",
            " 4   Sleep Duration                         2054 non-null   object \n",
            " 5   Dietary Habits                         2054 non-null   object \n",
            " 6   Have you ever had suicidal thoughts ?  2054 non-null   object \n",
            " 7   Work Hours                             2054 non-null   int64  \n",
            " 8   Financial Stress                       2054 non-null   int64  \n",
            " 9   Family History of Mental Illness       2054 non-null   object \n",
            " 10  Depression                             2054 non-null   object \n",
            "dtypes: float64(2), int64(3), object(6)\n",
            "memory usage: 176.6+ KB\n"
          ]
        }
      ],
      "source": [
        "professional_df.info()"
      ]
    },
    {
      "cell_type": "code",
      "execution_count": 8,
      "metadata": {
        "colab": {
          "base_uri": "https://localhost:8080/",
          "height": 295
        },
        "id": "JQ2Bxo8xft3z",
        "outputId": "f28953f8-81a7-428b-855f-dad61112ff86"
      },
      "outputs": [
        {
          "data": {
            "text/html": [
              "<div>\n",
              "<style scoped>\n",
              "    .dataframe tbody tr th:only-of-type {\n",
              "        vertical-align: middle;\n",
              "    }\n",
              "\n",
              "    .dataframe tbody tr th {\n",
              "        vertical-align: top;\n",
              "    }\n",
              "\n",
              "    .dataframe thead th {\n",
              "        text-align: right;\n",
              "    }\n",
              "</style>\n",
              "<table border=\"1\" class=\"dataframe\">\n",
              "  <thead>\n",
              "    <tr style=\"text-align: right;\">\n",
              "      <th></th>\n",
              "      <th>Gender</th>\n",
              "      <th>Age</th>\n",
              "      <th>Work Pressure</th>\n",
              "      <th>Job Satisfaction</th>\n",
              "      <th>Sleep Duration</th>\n",
              "      <th>Dietary Habits</th>\n",
              "      <th>Have you ever had suicidal thoughts ?</th>\n",
              "      <th>Work Hours</th>\n",
              "      <th>Financial Stress</th>\n",
              "      <th>Family History of Mental Illness</th>\n",
              "      <th>Depression</th>\n",
              "    </tr>\n",
              "  </thead>\n",
              "  <tbody>\n",
              "    <tr>\n",
              "      <th>0</th>\n",
              "      <td>Female</td>\n",
              "      <td>37</td>\n",
              "      <td>2.0</td>\n",
              "      <td>4.0</td>\n",
              "      <td>7-8 hours</td>\n",
              "      <td>Moderate</td>\n",
              "      <td>No</td>\n",
              "      <td>6</td>\n",
              "      <td>2</td>\n",
              "      <td>No</td>\n",
              "      <td>No</td>\n",
              "    </tr>\n",
              "    <tr>\n",
              "      <th>1</th>\n",
              "      <td>Male</td>\n",
              "      <td>60</td>\n",
              "      <td>4.0</td>\n",
              "      <td>3.0</td>\n",
              "      <td>5-6 hours</td>\n",
              "      <td>Unhealthy</td>\n",
              "      <td>Yes</td>\n",
              "      <td>0</td>\n",
              "      <td>4</td>\n",
              "      <td>Yes</td>\n",
              "      <td>No</td>\n",
              "    </tr>\n",
              "    <tr>\n",
              "      <th>2</th>\n",
              "      <td>Female</td>\n",
              "      <td>42</td>\n",
              "      <td>2.0</td>\n",
              "      <td>3.0</td>\n",
              "      <td>5-6 hours</td>\n",
              "      <td>Moderate</td>\n",
              "      <td>No</td>\n",
              "      <td>0</td>\n",
              "      <td>2</td>\n",
              "      <td>No</td>\n",
              "      <td>No</td>\n",
              "    </tr>\n",
              "    <tr>\n",
              "      <th>3</th>\n",
              "      <td>Female</td>\n",
              "      <td>44</td>\n",
              "      <td>3.0</td>\n",
              "      <td>5.0</td>\n",
              "      <td>7-8 hours</td>\n",
              "      <td>Healthy</td>\n",
              "      <td>Yes</td>\n",
              "      <td>1</td>\n",
              "      <td>2</td>\n",
              "      <td>Yes</td>\n",
              "      <td>No</td>\n",
              "    </tr>\n",
              "    <tr>\n",
              "      <th>4</th>\n",
              "      <td>Male</td>\n",
              "      <td>48</td>\n",
              "      <td>4.0</td>\n",
              "      <td>3.0</td>\n",
              "      <td>7-8 hours</td>\n",
              "      <td>Moderate</td>\n",
              "      <td>Yes</td>\n",
              "      <td>6</td>\n",
              "      <td>5</td>\n",
              "      <td>Yes</td>\n",
              "      <td>No</td>\n",
              "    </tr>\n",
              "  </tbody>\n",
              "</table>\n",
              "</div>"
            ],
            "text/plain": [
              "   Gender  Age  Work Pressure  Job Satisfaction Sleep Duration Dietary Habits  \\\n",
              "0  Female   37            2.0               4.0      7-8 hours       Moderate   \n",
              "1    Male   60            4.0               3.0      5-6 hours      Unhealthy   \n",
              "2  Female   42            2.0               3.0      5-6 hours       Moderate   \n",
              "3  Female   44            3.0               5.0      7-8 hours        Healthy   \n",
              "4    Male   48            4.0               3.0      7-8 hours       Moderate   \n",
              "\n",
              "  Have you ever had suicidal thoughts ?  Work Hours  Financial Stress  \\\n",
              "0                                    No           6                 2   \n",
              "1                                   Yes           0                 4   \n",
              "2                                    No           0                 2   \n",
              "3                                   Yes           1                 2   \n",
              "4                                   Yes           6                 5   \n",
              "\n",
              "  Family History of Mental Illness Depression  \n",
              "0                               No         No  \n",
              "1                              Yes         No  \n",
              "2                               No         No  \n",
              "3                              Yes         No  \n",
              "4                              Yes         No  "
            ]
          },
          "execution_count": 8,
          "metadata": {},
          "output_type": "execute_result"
        }
      ],
      "source": [
        "professional_df.head()"
      ]
    },
    {
      "cell_type": "code",
      "execution_count": 9,
      "metadata": {
        "colab": {
          "base_uri": "https://localhost:8080/"
        },
        "id": "WTyKnARqfUfE",
        "outputId": "639c0da9-514b-405e-9e86-2da185fcbdac"
      },
      "outputs": [
        {
          "name": "stdout",
          "output_type": "stream",
          "text": [
            "<class 'pandas.core.frame.DataFrame'>\n",
            "RangeIndex: 502 entries, 0 to 501\n",
            "Data columns (total 11 columns):\n",
            " #   Column                                 Non-Null Count  Dtype  \n",
            "---  ------                                 --------------  -----  \n",
            " 0   Gender                                 502 non-null    object \n",
            " 1   Age                                    502 non-null    int64  \n",
            " 2   Academic Pressure                      502 non-null    float64\n",
            " 3   Study Satisfaction                     502 non-null    float64\n",
            " 4   Sleep Duration                         502 non-null    object \n",
            " 5   Dietary Habits                         502 non-null    object \n",
            " 6   Have you ever had suicidal thoughts ?  502 non-null    object \n",
            " 7   Study Hours                            502 non-null    int64  \n",
            " 8   Financial Stress                       502 non-null    int64  \n",
            " 9   Family History of Mental Illness       502 non-null    object \n",
            " 10  Depression                             502 non-null    object \n",
            "dtypes: float64(2), int64(3), object(6)\n",
            "memory usage: 43.3+ KB\n"
          ]
        }
      ],
      "source": [
        "student_df.info()"
      ]
    },
    {
      "cell_type": "code",
      "execution_count": 10,
      "metadata": {
        "colab": {
          "base_uri": "https://localhost:8080/",
          "height": 330
        },
        "id": "D1sficO-fzfY",
        "outputId": "da483662-da2c-499d-9178-d561643bf78b"
      },
      "outputs": [
        {
          "data": {
            "text/html": [
              "<div>\n",
              "<style scoped>\n",
              "    .dataframe tbody tr th:only-of-type {\n",
              "        vertical-align: middle;\n",
              "    }\n",
              "\n",
              "    .dataframe tbody tr th {\n",
              "        vertical-align: top;\n",
              "    }\n",
              "\n",
              "    .dataframe thead th {\n",
              "        text-align: right;\n",
              "    }\n",
              "</style>\n",
              "<table border=\"1\" class=\"dataframe\">\n",
              "  <thead>\n",
              "    <tr style=\"text-align: right;\">\n",
              "      <th></th>\n",
              "      <th>Gender</th>\n",
              "      <th>Age</th>\n",
              "      <th>Academic Pressure</th>\n",
              "      <th>Study Satisfaction</th>\n",
              "      <th>Sleep Duration</th>\n",
              "      <th>Dietary Habits</th>\n",
              "      <th>Have you ever had suicidal thoughts ?</th>\n",
              "      <th>Study Hours</th>\n",
              "      <th>Financial Stress</th>\n",
              "      <th>Family History of Mental Illness</th>\n",
              "      <th>Depression</th>\n",
              "    </tr>\n",
              "  </thead>\n",
              "  <tbody>\n",
              "    <tr>\n",
              "      <th>0</th>\n",
              "      <td>Male</td>\n",
              "      <td>28</td>\n",
              "      <td>2.0</td>\n",
              "      <td>4.0</td>\n",
              "      <td>7-8 hours</td>\n",
              "      <td>Moderate</td>\n",
              "      <td>Yes</td>\n",
              "      <td>9</td>\n",
              "      <td>2</td>\n",
              "      <td>Yes</td>\n",
              "      <td>No</td>\n",
              "    </tr>\n",
              "    <tr>\n",
              "      <th>1</th>\n",
              "      <td>Male</td>\n",
              "      <td>28</td>\n",
              "      <td>4.0</td>\n",
              "      <td>5.0</td>\n",
              "      <td>5-6 hours</td>\n",
              "      <td>Healthy</td>\n",
              "      <td>Yes</td>\n",
              "      <td>7</td>\n",
              "      <td>1</td>\n",
              "      <td>Yes</td>\n",
              "      <td>No</td>\n",
              "    </tr>\n",
              "    <tr>\n",
              "      <th>2</th>\n",
              "      <td>Male</td>\n",
              "      <td>25</td>\n",
              "      <td>1.0</td>\n",
              "      <td>3.0</td>\n",
              "      <td>5-6 hours</td>\n",
              "      <td>Unhealthy</td>\n",
              "      <td>Yes</td>\n",
              "      <td>10</td>\n",
              "      <td>4</td>\n",
              "      <td>No</td>\n",
              "      <td>Yes</td>\n",
              "    </tr>\n",
              "    <tr>\n",
              "      <th>3</th>\n",
              "      <td>Male</td>\n",
              "      <td>23</td>\n",
              "      <td>1.0</td>\n",
              "      <td>4.0</td>\n",
              "      <td>More than 8 hours</td>\n",
              "      <td>Unhealthy</td>\n",
              "      <td>Yes</td>\n",
              "      <td>7</td>\n",
              "      <td>2</td>\n",
              "      <td>Yes</td>\n",
              "      <td>No</td>\n",
              "    </tr>\n",
              "    <tr>\n",
              "      <th>4</th>\n",
              "      <td>Female</td>\n",
              "      <td>31</td>\n",
              "      <td>1.0</td>\n",
              "      <td>5.0</td>\n",
              "      <td>More than 8 hours</td>\n",
              "      <td>Healthy</td>\n",
              "      <td>Yes</td>\n",
              "      <td>4</td>\n",
              "      <td>2</td>\n",
              "      <td>Yes</td>\n",
              "      <td>No</td>\n",
              "    </tr>\n",
              "  </tbody>\n",
              "</table>\n",
              "</div>"
            ],
            "text/plain": [
              "   Gender  Age  Academic Pressure  Study Satisfaction     Sleep Duration  \\\n",
              "0    Male   28                2.0                 4.0          7-8 hours   \n",
              "1    Male   28                4.0                 5.0          5-6 hours   \n",
              "2    Male   25                1.0                 3.0          5-6 hours   \n",
              "3    Male   23                1.0                 4.0  More than 8 hours   \n",
              "4  Female   31                1.0                 5.0  More than 8 hours   \n",
              "\n",
              "  Dietary Habits Have you ever had suicidal thoughts ?  Study Hours  \\\n",
              "0       Moderate                                   Yes            9   \n",
              "1        Healthy                                   Yes            7   \n",
              "2      Unhealthy                                   Yes           10   \n",
              "3      Unhealthy                                   Yes            7   \n",
              "4        Healthy                                   Yes            4   \n",
              "\n",
              "   Financial Stress Family History of Mental Illness Depression  \n",
              "0                 2                              Yes         No  \n",
              "1                 1                              Yes         No  \n",
              "2                 4                               No        Yes  \n",
              "3                 2                              Yes         No  \n",
              "4                 2                              Yes         No  "
            ]
          },
          "execution_count": 10,
          "metadata": {},
          "output_type": "execute_result"
        }
      ],
      "source": [
        "student_df.head()"
      ]
    },
    {
      "cell_type": "code",
      "execution_count": 11,
      "metadata": {
        "colab": {
          "base_uri": "https://localhost:8080/"
        },
        "id": "3XXyIgxVuqes",
        "outputId": "4ac040e7-5ae9-49de-c0b2-47c8fc71f75d"
      },
      "outputs": [
        {
          "name": "stdout",
          "output_type": "stream",
          "text": [
            "Dataset: Student:\n",
            "\tColumn: Gender\n",
            "\t\tType: Categorical\n",
            "\t\tValues: ['Male' 'Female']\n",
            "\t\tMode: Male\n",
            "\tColumn: Age\n",
            "\t\tType: Numerical\n",
            "\t\tRange: [18, 34]\n",
            "\t\tMedian: 26.5\n",
            "\t\tStandard Deviation: 4.896500575608593\n",
            "\t\tMode: 28\n",
            "\tColumn: Academic Pressure\n",
            "\t\tType: Numerical\n",
            "\t\tRange: [1.0, 5.0]\n",
            "\t\tMedian: 3.0\n",
            "\t\tStandard Deviation: 1.3900071309517898\n",
            "\t\tMode: 3.0\n",
            "\tColumn: Study Satisfaction\n",
            "\t\tType: Numerical\n",
            "\t\tRange: [1.0, 5.0]\n",
            "\t\tMedian: 3.0\n",
            "\t\tStandard Deviation: 1.3734897392498213\n",
            "\t\tMode: 4.0\n",
            "\tColumn: Sleep Duration\n",
            "\t\tType: Categorical\n",
            "\t\tValues: ['7-8 hours' '5-6 hours' 'More than 8 hours' 'Less than 5 hours']\n",
            "\t\tMode: 7-8 hours\n",
            "\tColumn: Dietary Habits\n",
            "\t\tType: Categorical\n",
            "\t\tValues: ['Moderate' 'Healthy' 'Unhealthy']\n",
            "\t\tMode: Moderate\n",
            "\tColumn: Have you ever had suicidal thoughts ?\n",
            "\t\tType: Categorical\n",
            "\t\tValues: ['Yes' 'No']\n",
            "\t\tMode: Yes\n",
            "\tColumn: Study Hours\n",
            "\t\tType: Numerical\n",
            "\t\tRange: [0, 12]\n",
            "\t\tMedian: 7.0\n",
            "\t\tStandard Deviation: 3.742433579762453\n",
            "\t\tMode: 10\n",
            "\tColumn: Financial Stress\n",
            "\t\tType: Numerical\n",
            "\t\tRange: [1, 5]\n",
            "\t\tMedian: 3.0\n",
            "\t\tStandard Deviation: 1.4250526668092287\n",
            "\t\tMode: 1\n",
            "\tColumn: Family History of Mental Illness\n",
            "\t\tType: Categorical\n",
            "\t\tValues: ['Yes' 'No']\n",
            "\t\tMode: No\n",
            "\tColumn: Depression\n",
            "\t\tType: Categorical\n",
            "\t\tValues: ['No' 'Yes']\n",
            "\t\tMode: Yes\n",
            "==================================================\n",
            "Dataset: Professional:\n",
            "\tColumn: Gender\n",
            "\t\tType: Categorical\n",
            "\t\tValues: ['Female' 'Male']\n",
            "\t\tMode: Male\n",
            "\tColumn: Age\n",
            "\t\tType: Numerical\n",
            "\t\tRange: [18, 60]\n",
            "\t\tMedian: 43.0\n",
            "\t\tStandard Deviation: 11.46120191304482\n",
            "\t\tMode: 56\n",
            "\tColumn: Work Pressure\n",
            "\t\tType: Numerical\n",
            "\t\tRange: [1.0, 5.0]\n",
            "\t\tMedian: 3.0\n",
            "\t\tStandard Deviation: 1.4173124335300835\n",
            "\t\tMode: 5.0\n",
            "\tColumn: Job Satisfaction\n",
            "\t\tType: Numerical\n",
            "\t\tRange: [1.0, 5.0]\n",
            "\t\tMedian: 3.0\n",
            "\t\tStandard Deviation: 1.4184320240775232\n",
            "\t\tMode: 2.0\n",
            "\tColumn: Sleep Duration\n",
            "\t\tType: Categorical\n",
            "\t\tValues: ['7-8 hours' '5-6 hours' 'More than 8 hours' 'Less than 5 hours']\n",
            "\t\tMode: 7-8 hours\n",
            "\tColumn: Dietary Habits\n",
            "\t\tType: Categorical\n",
            "\t\tValues: ['Moderate' 'Unhealthy' 'Healthy']\n",
            "\t\tMode: Unhealthy\n",
            "\tColumn: Have you ever had suicidal thoughts ?\n",
            "\t\tType: Categorical\n",
            "\t\tValues: ['No' 'Yes']\n",
            "\t\tMode: No\n",
            "\tColumn: Work Hours\n",
            "\t\tType: Numerical\n",
            "\t\tRange: [0, 12]\n",
            "\t\tMedian: 6.0\n",
            "\t\tStandard Deviation: 3.7739450197252284\n",
            "\t\tMode: 9\n",
            "\tColumn: Financial Stress\n",
            "\t\tType: Numerical\n",
            "\t\tRange: [1, 5]\n",
            "\t\tMedian: 3.0\n",
            "\t\tStandard Deviation: 1.41336213427113\n",
            "\t\tMode: 2\n",
            "\tColumn: Family History of Mental Illness\n",
            "\t\tType: Categorical\n",
            "\t\tValues: ['No' 'Yes']\n",
            "\t\tMode: No\n",
            "\tColumn: Depression\n",
            "\t\tType: Categorical\n",
            "\t\tValues: ['No' 'Yes']\n",
            "\t\tMode: No\n"
          ]
        }
      ],
      "source": [
        "def analyze_columns(df, dataset_name):\n",
        "    print(f\"Dataset: {dataset_name}:\")\n",
        "    for col in df.columns:\n",
        "        print(f\"\\tColumn: {col}\")\n",
        "        if df[col].dtype in ['object', 'str'] or df[col].nunique() < 4:  # Categorical condition\n",
        "            unique_values = df[col].dropna().unique()\n",
        "            mode_val = df[col].mode()[0] if not df[col].mode().empty else \"No mode\"\n",
        "            print(f\"\\t\\tType: Categorical\")\n",
        "            print(f\"\\t\\tValues: {unique_values}\")\n",
        "            print(f\"\\t\\tMode: {mode_val}\")\n",
        "        else:  # Numerical condition\n",
        "            min_val = df[col].min()\n",
        "            max_val = df[col].max()\n",
        "            median_val = df[col].median()\n",
        "            mode_val = df[col].mode()[0] if not df[col].mode().empty else \"No mode\"\n",
        "            std_val = df[col].std()\n",
        "            print(f\"\\t\\tType: Numerical\")\n",
        "            print(f\"\\t\\tRange: [{min_val}, {max_val}]\")\n",
        "            print(f\"\\t\\tMedian: {median_val}\")\n",
        "            print(f\"\\t\\tStandard Deviation: {std_val}\")\n",
        "            print(f\"\\t\\tMode: {mode_val}\")\n",
        "\n",
        "analyze_columns(student_df, \"Student\")\n",
        "print(\"=\"*50)\n",
        "analyze_columns(professional_df, \"Professional\")\n"
      ]
    },
    {
      "cell_type": "markdown",
      "metadata": {
        "id": "-LZ4UNvdgOg9"
      },
      "source": [
        "# Clean data"
      ]
    },
    {
      "cell_type": "markdown",
      "metadata": {
        "id": "rlRhnrGogYZ8"
      },
      "source": [
        "## Missing values"
      ]
    },
    {
      "cell_type": "code",
      "execution_count": 12,
      "metadata": {
        "colab": {
          "base_uri": "https://localhost:8080/",
          "height": 429
        },
        "id": "z6R9IgAngeLS",
        "outputId": "148d0213-f00f-46ed-dbcb-b38956e49cf1"
      },
      "outputs": [
        {
          "data": {
            "text/plain": [
              "Gender                                   0\n",
              "Age                                      0\n",
              "Academic Pressure                        0\n",
              "Study Satisfaction                       0\n",
              "Sleep Duration                           0\n",
              "Dietary Habits                           0\n",
              "Have you ever had suicidal thoughts ?    0\n",
              "Study Hours                              0\n",
              "Financial Stress                         0\n",
              "Family History of Mental Illness         0\n",
              "Depression                               0\n",
              "dtype: int64"
            ]
          },
          "execution_count": 12,
          "metadata": {},
          "output_type": "execute_result"
        }
      ],
      "source": [
        "student_df.isnull().sum()"
      ]
    },
    {
      "cell_type": "code",
      "execution_count": 13,
      "metadata": {
        "colab": {
          "base_uri": "https://localhost:8080/",
          "height": 429
        },
        "id": "APREtjkMgQzk",
        "outputId": "c56392b0-d2ba-41c2-c1f8-d8c5099b4e0d"
      },
      "outputs": [
        {
          "data": {
            "text/plain": [
              "Gender                                   0\n",
              "Age                                      0\n",
              "Work Pressure                            0\n",
              "Job Satisfaction                         0\n",
              "Sleep Duration                           0\n",
              "Dietary Habits                           0\n",
              "Have you ever had suicidal thoughts ?    0\n",
              "Work Hours                               0\n",
              "Financial Stress                         0\n",
              "Family History of Mental Illness         0\n",
              "Depression                               0\n",
              "dtype: int64"
            ]
          },
          "execution_count": 13,
          "metadata": {},
          "output_type": "execute_result"
        }
      ],
      "source": [
        "professional_df.isnull().sum()"
      ]
    },
    {
      "cell_type": "markdown",
      "metadata": {
        "id": "WPDF5hRJtcCt"
      },
      "source": [
        "**Nhận xét:** Trong cả hai dataset, có **5** cột có dữ liệu chứa giá trị `null`: **Age**, **Sleep Duration**, **Dietary Habits**, **Family History of Mental Illness** và **Depression**\n",
        "\n",
        "1. **Age**: Dữ liệu của cột này thuộc loại **Numerical**. Dựa vào các giá trị thống kê, nhóm quyết định thay thế các giá trị `null` bằng **trung vị** của cột. Lý do:\n",
        "    - **Student Dataset** có `median = 26.0` và có phạm vi tuổi khá hẹp (18 - 34). Điền bằng trung vị là lựa chọn phù hợp vì nó không bị ảnh hưởng quá nhiều bởi các giá trị ngoại lai và giúp duy trì tính đại diện của dữ liệu.\n",
        "    - **Professional Dataset** `có median = 43.0`. Độ lệch chuẩn của độ tuổi khá cao (`std = 11.46`), cho thấy dữ liệu tuổi có thể hơi phân tán. Điền giá trị thiếu bằng trung vị sẽ ít bị ảnh hưởng bởi các giá trị ngoại lai, giúp duy trì sự ổn định của dữ liệu.\n",
        "\n",
        "\n",
        "2. **Sleep Duration**, **Dietary Habits**, **Family History of Mental Illness**: Thay thế giá trị `null` bằng `mode` của cột (giá trị xuất hiện nhiều nhất trong cột đó).Điều này giúp duy trì phân phối dữ liệu và ít làm ảnh hưởng đến đặc điểm của dataset.\n",
        "3. **Depression**: Loại bỏ các hàng có giá trị `null`:\n",
        "    \n",
        "    - Đây là biến mục tiêu cho việc dự đoán của các mô hình học máy (sẽ triển khai trong các phần sau), nên việc điền giá trị không chính xác vào cột này sẽ ảnh hưởng đến kết quả phân tích.\n",
        "    - Số lượng giá trị `null` không nhiều (`13/2054` cho dataset **Professional** và `9/502` cho dataset **Student**)"
      ]
    },
    {
      "cell_type": "code",
      "execution_count": 14,
      "metadata": {
        "colab": {
          "base_uri": "https://localhost:8080/"
        },
        "collapsed": true,
        "id": "og5CHhqB7I7X",
        "outputId": "32ad3654-a1b1-4007-ecc8-63bd2d2ffaa3"
      },
      "outputs": [
        {
          "name": "stdout",
          "output_type": "stream",
          "text": [
            "<class 'pandas.core.frame.DataFrame'>\n",
            "RangeIndex: 502 entries, 0 to 501\n",
            "Data columns (total 11 columns):\n",
            " #   Column                                 Non-Null Count  Dtype  \n",
            "---  ------                                 --------------  -----  \n",
            " 0   Gender                                 502 non-null    object \n",
            " 1   Age                                    502 non-null    int64  \n",
            " 2   Academic Pressure                      502 non-null    float64\n",
            " 3   Study Satisfaction                     502 non-null    float64\n",
            " 4   Sleep Duration                         502 non-null    object \n",
            " 5   Dietary Habits                         502 non-null    object \n",
            " 6   Have you ever had suicidal thoughts ?  502 non-null    object \n",
            " 7   Study Hours                            502 non-null    int64  \n",
            " 8   Financial Stress                       502 non-null    int64  \n",
            " 9   Family History of Mental Illness       502 non-null    object \n",
            " 10  Depression                             502 non-null    object \n",
            "dtypes: float64(2), int64(3), object(6)\n",
            "memory usage: 43.3+ KB\n"
          ]
        },
        {
          "name": "stderr",
          "output_type": "stream",
          "text": [
            "C:\\Users\\Admin\\AppData\\Local\\Temp\\ipykernel_16492\\697036341.py:4: FutureWarning: A value is trying to be set on a copy of a DataFrame or Series through chained assignment using an inplace method.\n",
            "The behavior will change in pandas 3.0. This inplace method will never work because the intermediate object on which we are setting values always behaves as a copy.\n",
            "\n",
            "For example, when doing 'df[col].method(value, inplace=True)', try using 'df.method({col: value}, inplace=True)' or df[col] = df[col].method(value) instead, to perform the operation inplace on the original object.\n",
            "\n",
            "\n",
            "  student_df['Age'].fillna(student_df['Age'].median(), inplace=True)\n",
            "C:\\Users\\Admin\\AppData\\Local\\Temp\\ipykernel_16492\\697036341.py:7: FutureWarning: A value is trying to be set on a copy of a DataFrame or Series through chained assignment using an inplace method.\n",
            "The behavior will change in pandas 3.0. This inplace method will never work because the intermediate object on which we are setting values always behaves as a copy.\n",
            "\n",
            "For example, when doing 'df[col].method(value, inplace=True)', try using 'df.method({col: value}, inplace=True)' or df[col] = df[col].method(value) instead, to perform the operation inplace on the original object.\n",
            "\n",
            "\n",
            "  student_df['Sleep Duration'].fillna(student_df['Sleep Duration'].mode()[0], inplace=True)\n",
            "C:\\Users\\Admin\\AppData\\Local\\Temp\\ipykernel_16492\\697036341.py:8: FutureWarning: A value is trying to be set on a copy of a DataFrame or Series through chained assignment using an inplace method.\n",
            "The behavior will change in pandas 3.0. This inplace method will never work because the intermediate object on which we are setting values always behaves as a copy.\n",
            "\n",
            "For example, when doing 'df[col].method(value, inplace=True)', try using 'df.method({col: value}, inplace=True)' or df[col] = df[col].method(value) instead, to perform the operation inplace on the original object.\n",
            "\n",
            "\n",
            "  student_df['Dietary Habits'].fillna(student_df['Dietary Habits'].mode()[0], inplace=True)\n",
            "C:\\Users\\Admin\\AppData\\Local\\Temp\\ipykernel_16492\\697036341.py:9: FutureWarning: A value is trying to be set on a copy of a DataFrame or Series through chained assignment using an inplace method.\n",
            "The behavior will change in pandas 3.0. This inplace method will never work because the intermediate object on which we are setting values always behaves as a copy.\n",
            "\n",
            "For example, when doing 'df[col].method(value, inplace=True)', try using 'df.method({col: value}, inplace=True)' or df[col] = df[col].method(value) instead, to perform the operation inplace on the original object.\n",
            "\n",
            "\n",
            "  student_df['Family History of Mental Illness'].fillna(student_df['Family History of Mental Illness'].mode()[0], inplace=True)\n"
          ]
        }
      ],
      "source": [
        "# Handle missing values for Student Dataset\n",
        "\n",
        "# Fill missing values in \"Age\" with median\n",
        "student_df['Age'].fillna(student_df['Age'].median(), inplace=True)\n",
        "\n",
        "# Fill missing values in \"Sleep Duration\", \"Dietary Habits\", \"Family History of Mental Illness\" with mode\n",
        "student_df['Sleep Duration'].fillna(student_df['Sleep Duration'].mode()[0], inplace=True)\n",
        "student_df['Dietary Habits'].fillna(student_df['Dietary Habits'].mode()[0], inplace=True)\n",
        "student_df['Family History of Mental Illness'].fillna(student_df['Family History of Mental Illness'].mode()[0], inplace=True)\n",
        "\n",
        "# Drop rows where \"Depression\" is null\n",
        "student_df.dropna(subset=['Depression'], inplace=True)\n",
        "\n",
        "student_df.info()"
      ]
    },
    {
      "cell_type": "code",
      "execution_count": 15,
      "metadata": {
        "colab": {
          "base_uri": "https://localhost:8080/"
        },
        "id": "9NvvxNU9779L",
        "outputId": "626285e8-0b73-4bc9-959f-f81ca5178163"
      },
      "outputs": [
        {
          "name": "stdout",
          "output_type": "stream",
          "text": [
            "<class 'pandas.core.frame.DataFrame'>\n",
            "RangeIndex: 2054 entries, 0 to 2053\n",
            "Data columns (total 11 columns):\n",
            " #   Column                                 Non-Null Count  Dtype  \n",
            "---  ------                                 --------------  -----  \n",
            " 0   Gender                                 2054 non-null   object \n",
            " 1   Age                                    2054 non-null   int64  \n",
            " 2   Work Pressure                          2054 non-null   float64\n",
            " 3   Job Satisfaction                       2054 non-null   float64\n",
            " 4   Sleep Duration                         2054 non-null   object \n",
            " 5   Dietary Habits                         2054 non-null   object \n",
            " 6   Have you ever had suicidal thoughts ?  2054 non-null   object \n",
            " 7   Work Hours                             2054 non-null   int64  \n",
            " 8   Financial Stress                       2054 non-null   int64  \n",
            " 9   Family History of Mental Illness       2054 non-null   object \n",
            " 10  Depression                             2054 non-null   object \n",
            "dtypes: float64(2), int64(3), object(6)\n",
            "memory usage: 176.6+ KB\n"
          ]
        }
      ],
      "source": [
        "# Handle missing values for Professional Dataset\n",
        "\n",
        "# Fill missing values in \"Age\" with median\n",
        "professional_df['Age'] = professional_df['Age'].fillna(professional_df['Age'].median())\n",
        "\n",
        "# Fill missing values in \"Sleep Duration\", \"Dietary Habits\", \"Family History of Mental Illness\" with mode\n",
        "professional_df['Sleep Duration'] = professional_df['Sleep Duration'].fillna(professional_df['Sleep Duration'].mode()[0])\n",
        "professional_df['Dietary Habits'] = professional_df['Dietary Habits'].fillna(professional_df['Dietary Habits'].mode()[0])\n",
        "professional_df['Family History of Mental Illness'] = professional_df['Family History of Mental Illness'].fillna(professional_df['Family History of Mental Illness'].mode()[0])\n",
        "\n",
        "# Drop rows where \"Depression\" is null\n",
        "professional_df = professional_df.dropna(subset=['Depression'])\n",
        "\n",
        "professional_df.info()"
      ]
    },
    {
      "cell_type": "markdown",
      "metadata": {
        "id": "6Sx6YkYsQrwh"
      },
      "source": [
        "## Duplicate values"
      ]
    },
    {
      "cell_type": "code",
      "execution_count": 16,
      "metadata": {
        "colab": {
          "base_uri": "https://localhost:8080/"
        },
        "id": "90rgHUPeQoGY",
        "outputId": "944b9278-6fc9-4e9f-b57b-6780f9c420c2"
      },
      "outputs": [
        {
          "name": "stdout",
          "output_type": "stream",
          "text": [
            "0\n",
            "0\n"
          ]
        }
      ],
      "source": [
        "print(student_df.duplicated().sum())\n",
        "print(professional_df.duplicated().sum())"
      ]
    },
    {
      "cell_type": "markdown",
      "metadata": {
        "id": "C3ENwZ1889FD"
      },
      "source": [
        "# Transform data"
      ]
    },
    {
      "cell_type": "markdown",
      "metadata": {
        "id": "CFtjbFmqAjrm"
      },
      "source": [
        "Trong cả hai dataset, nhóm tiến hành một số bước để transform được dữ liệu như sau:\n",
        "\n",
        "1. Chuẩn hoá tên các cột tuân theo quy tắc **snake_case**. Ví dụ: `\"Sleep Duration\"` → `\"sleep_duration\"`\n",
        "\n",
        "2. Thống nhất tên của một số cột. Ví dụ: `\"Academic Pressure\"` (Student) và `\"Work Pressure\"` (Professional) → `\"work_pressure\"`\n",
        "\n",
        "3. Thêm field `\"dataset\"` để xác định record thuộc dataset nào\n",
        "\n",
        "4. Concat 2 dataset\n",
        "\n",
        "5. Tối ưu kiểu dữ liệu của một số cột: Ví dụ: `\"work_pressure\"` (Student) đang có kiểu dữ liệu là `float64` nhưng các giá trị của cột là `[1.0 2.0 3.0 4.0 5.0]`  → chuyển về `int64` để tối ưu hơn cho việc sử dụng sau này\n",
        "\n",
        "6. Lưu lại dataset cuối cùng"
      ]
    },
    {
      "cell_type": "code",
      "execution_count": 17,
      "metadata": {
        "colab": {
          "base_uri": "https://localhost:8080/"
        },
        "id": "raifC0XT-Uhk",
        "outputId": "e3eae5fa-a72f-4132-d055-27281eb0cc80"
      },
      "outputs": [],
      "source": [
        "# Step 1 + Step 2: Standardize columns name\n",
        "student_df.rename(columns={\n",
        "    'Gender': 'gender',\n",
        "    'Age': 'age',\n",
        "    'Academic Pressure': 'work_pressure',\n",
        "    'Study Satisfaction': 'work_satisfaction',\n",
        "    'Sleep Duration': 'sleep_duration',\n",
        "    'Dietary Habits': 'dietary_habits',\n",
        "    'Have you ever had suicidal thoughts ?': 'suicidal_thoughts',\n",
        "    'Study Hours': 'work_hours',\n",
        "    'Financial Stress': 'financial_stress',\n",
        "    'Family History of Mental Illness': 'family_mental_illness_history',\n",
        "    'Depression': 'depression'\n",
        "}, inplace=True)\n",
        "\n",
        "professional_df.rename(columns={\n",
        "    'Gender': 'gender',\n",
        "    'Age': 'age',\n",
        "    'Work Pressure': 'work_pressure',\n",
        "    'Job Satisfaction': 'work_satisfaction',\n",
        "    'Sleep Duration': 'sleep_duration',\n",
        "    'Dietary Habits': 'dietary_habits',\n",
        "    'Have you ever had suicidal thoughts ?': 'suicidal_thoughts',\n",
        "    'Work Hours': 'work_hours',\n",
        "    'Financial Stress': 'financial_stress',\n",
        "    'Family History of Mental Illness': 'family_mental_illness_history',\n",
        "    'Depression': 'depression'\n",
        "}, inplace=True)"
      ]
    },
    {
      "cell_type": "code",
      "execution_count": null,
      "metadata": {
        "colab": {
          "base_uri": "https://localhost:8080/"
        },
        "id": "xFNH4egj-tZV",
        "outputId": "f8979213-d92b-469f-9e64-b0870df0ff61"
      },
      "outputs": [],
      "source": [
        "# Step 3: Add identify field\n",
        "student_df['from_source'] = 'Student'\n",
        "professional_df['from_source'] = 'Professional'"
      ]
    },
    {
      "cell_type": "code",
      "execution_count": 19,
      "metadata": {
        "colab": {
          "base_uri": "https://localhost:8080/"
        },
        "id": "tkjbJTHn-zDd",
        "outputId": "b3e75312-5e7e-4208-ca92-e1dceefd4c31"
      },
      "outputs": [
        {
          "name": "stdout",
          "output_type": "stream",
          "text": [
            "<class 'pandas.core.frame.DataFrame'>\n",
            "RangeIndex: 2556 entries, 0 to 2555\n",
            "Data columns (total 12 columns):\n",
            " #   Column                         Non-Null Count  Dtype  \n",
            "---  ------                         --------------  -----  \n",
            " 0   gender                         2556 non-null   object \n",
            " 1   age                            2556 non-null   int64  \n",
            " 2   work_pressure                  2556 non-null   float64\n",
            " 3   work_satisfaction              2556 non-null   float64\n",
            " 4   sleep_duration                 2556 non-null   object \n",
            " 5   dietary_habits                 2556 non-null   object \n",
            " 6   suicidal_thoughts              2556 non-null   object \n",
            " 7   work_hours                     2556 non-null   int64  \n",
            " 8   financial_stress               2556 non-null   int64  \n",
            " 9   family_mental_illness_history  2556 non-null   object \n",
            " 10  depression                     2556 non-null   object \n",
            " 11  dataset                        2556 non-null   object \n",
            "dtypes: float64(2), int64(3), object(7)\n",
            "memory usage: 239.8+ KB\n"
          ]
        }
      ],
      "source": [
        "# Step 4: Concat\n",
        "combined_df = pd.concat([student_df, professional_df], ignore_index=True)\n",
        "\n",
        "combined_df.info()"
      ]
    },
    {
      "cell_type": "code",
      "execution_count": 20,
      "metadata": {},
      "outputs": [],
      "source": [
        "combined_df['depression'] = combined_df['depression'].map(lambda x: x == 'Yes')\n",
        "combined_df['suicidal_thoughts'] = combined_df['suicidal_thoughts'].map(lambda x: x == 'Yes')\n",
        "combined_df['family_mental_illness_history'] = combined_df['family_mental_illness_history'].map(lambda x: x == 'Yes')"
      ]
    },
    {
      "cell_type": "code",
      "execution_count": 21,
      "metadata": {
        "colab": {
          "base_uri": "https://localhost:8080/"
        },
        "id": "O-KtlvGSFd0r",
        "outputId": "4b25f4fc-b8e7-410f-8a1f-f14b637b73b9"
      },
      "outputs": [
        {
          "name": "stdout",
          "output_type": "stream",
          "text": [
            "<class 'pandas.core.frame.DataFrame'>\n",
            "RangeIndex: 2556 entries, 0 to 2555\n",
            "Data columns (total 12 columns):\n",
            " #   Column                         Non-Null Count  Dtype \n",
            "---  ------                         --------------  ----- \n",
            " 0   gender                         2556 non-null   object\n",
            " 1   age                            2556 non-null   int64 \n",
            " 2   work_pressure                  2556 non-null   int64 \n",
            " 3   work_satisfaction              2556 non-null   int64 \n",
            " 4   sleep_duration                 2556 non-null   object\n",
            " 5   dietary_habits                 2556 non-null   object\n",
            " 6   suicidal_thoughts              2556 non-null   bool  \n",
            " 7   work_hours                     2556 non-null   int64 \n",
            " 8   financial_stress               2556 non-null   int64 \n",
            " 9   family_mental_illness_history  2556 non-null   bool  \n",
            " 10  depression                     2556 non-null   bool  \n",
            " 11  dataset                        2556 non-null   object\n",
            "dtypes: bool(3), int64(5), object(4)\n",
            "memory usage: 187.3+ KB\n"
          ]
        }
      ],
      "source": [
        "# Step 5: Optimize types\n",
        "combined_df['age'] = combined_df['age'].astype('int64')\n",
        "combined_df['work_pressure'] = combined_df['work_pressure'].astype('int64')\n",
        "combined_df['work_satisfaction'] = combined_df['work_satisfaction'].astype('int64')\n",
        "\n",
        "combined_df.info()"
      ]
    },
    {
      "cell_type": "code",
      "execution_count": 22,
      "metadata": {
        "colab": {
          "base_uri": "https://localhost:8080/"
        },
        "id": "QFcwAx1YR8Dk",
        "outputId": "9df7efa0-7d7e-40f0-ba25-98a3b7d04a98"
      },
      "outputs": [
        {
          "name": "stdout",
          "output_type": "stream",
          "text": [
            "<class 'pandas.core.frame.DataFrame'>\n",
            "RangeIndex: 2556 entries, 0 to 2555\n",
            "Data columns (total 12 columns):\n",
            " #   Column                         Non-Null Count  Dtype \n",
            "---  ------                         --------------  ----- \n",
            " 0   gender                         2556 non-null   object\n",
            " 1   age                            2556 non-null   int64 \n",
            " 2   work_pressure                  2556 non-null   int64 \n",
            " 3   work_satisfaction              2556 non-null   int64 \n",
            " 4   sleep_duration                 2556 non-null   object\n",
            " 5   dietary_habits                 2556 non-null   object\n",
            " 6   suicidal_thoughts              2556 non-null   bool  \n",
            " 7   work_hours                     2556 non-null   int64 \n",
            " 8   financial_stress               2556 non-null   int64 \n",
            " 9   family_mental_illness_history  2556 non-null   bool  \n",
            " 10  depression                     2556 non-null   bool  \n",
            " 11  dataset                        2556 non-null   object\n",
            "dtypes: bool(3), int64(5), object(4)\n",
            "memory usage: 187.3+ KB\n"
          ]
        }
      ],
      "source": [
        "combined_df.info()"
      ]
    },
    {
      "cell_type": "code",
      "execution_count": 23,
      "metadata": {
        "colab": {
          "base_uri": "https://localhost:8080/",
          "height": 226
        },
        "id": "VkbUNTWZHFXx",
        "outputId": "31aa691b-633b-4c30-e8aa-e28b7f98566d"
      },
      "outputs": [
        {
          "data": {
            "text/html": [
              "<div>\n",
              "<style scoped>\n",
              "    .dataframe tbody tr th:only-of-type {\n",
              "        vertical-align: middle;\n",
              "    }\n",
              "\n",
              "    .dataframe tbody tr th {\n",
              "        vertical-align: top;\n",
              "    }\n",
              "\n",
              "    .dataframe thead th {\n",
              "        text-align: right;\n",
              "    }\n",
              "</style>\n",
              "<table border=\"1\" class=\"dataframe\">\n",
              "  <thead>\n",
              "    <tr style=\"text-align: right;\">\n",
              "      <th></th>\n",
              "      <th>gender</th>\n",
              "      <th>age</th>\n",
              "      <th>work_pressure</th>\n",
              "      <th>work_satisfaction</th>\n",
              "      <th>sleep_duration</th>\n",
              "      <th>dietary_habits</th>\n",
              "      <th>suicidal_thoughts</th>\n",
              "      <th>work_hours</th>\n",
              "      <th>financial_stress</th>\n",
              "      <th>family_mental_illness_history</th>\n",
              "      <th>depression</th>\n",
              "      <th>dataset</th>\n",
              "    </tr>\n",
              "  </thead>\n",
              "  <tbody>\n",
              "    <tr>\n",
              "      <th>0</th>\n",
              "      <td>Male</td>\n",
              "      <td>28</td>\n",
              "      <td>2</td>\n",
              "      <td>4</td>\n",
              "      <td>7-8 hours</td>\n",
              "      <td>Moderate</td>\n",
              "      <td>True</td>\n",
              "      <td>9</td>\n",
              "      <td>2</td>\n",
              "      <td>True</td>\n",
              "      <td>False</td>\n",
              "      <td>Student</td>\n",
              "    </tr>\n",
              "    <tr>\n",
              "      <th>1</th>\n",
              "      <td>Male</td>\n",
              "      <td>28</td>\n",
              "      <td>4</td>\n",
              "      <td>5</td>\n",
              "      <td>5-6 hours</td>\n",
              "      <td>Healthy</td>\n",
              "      <td>True</td>\n",
              "      <td>7</td>\n",
              "      <td>1</td>\n",
              "      <td>True</td>\n",
              "      <td>False</td>\n",
              "      <td>Student</td>\n",
              "    </tr>\n",
              "    <tr>\n",
              "      <th>2</th>\n",
              "      <td>Male</td>\n",
              "      <td>25</td>\n",
              "      <td>1</td>\n",
              "      <td>3</td>\n",
              "      <td>5-6 hours</td>\n",
              "      <td>Unhealthy</td>\n",
              "      <td>True</td>\n",
              "      <td>10</td>\n",
              "      <td>4</td>\n",
              "      <td>False</td>\n",
              "      <td>True</td>\n",
              "      <td>Student</td>\n",
              "    </tr>\n",
              "    <tr>\n",
              "      <th>3</th>\n",
              "      <td>Male</td>\n",
              "      <td>23</td>\n",
              "      <td>1</td>\n",
              "      <td>4</td>\n",
              "      <td>More than 8 hours</td>\n",
              "      <td>Unhealthy</td>\n",
              "      <td>True</td>\n",
              "      <td>7</td>\n",
              "      <td>2</td>\n",
              "      <td>True</td>\n",
              "      <td>False</td>\n",
              "      <td>Student</td>\n",
              "    </tr>\n",
              "    <tr>\n",
              "      <th>4</th>\n",
              "      <td>Female</td>\n",
              "      <td>31</td>\n",
              "      <td>1</td>\n",
              "      <td>5</td>\n",
              "      <td>More than 8 hours</td>\n",
              "      <td>Healthy</td>\n",
              "      <td>True</td>\n",
              "      <td>4</td>\n",
              "      <td>2</td>\n",
              "      <td>True</td>\n",
              "      <td>False</td>\n",
              "      <td>Student</td>\n",
              "    </tr>\n",
              "  </tbody>\n",
              "</table>\n",
              "</div>"
            ],
            "text/plain": [
              "   gender  age  work_pressure  work_satisfaction     sleep_duration  \\\n",
              "0    Male   28              2                  4          7-8 hours   \n",
              "1    Male   28              4                  5          5-6 hours   \n",
              "2    Male   25              1                  3          5-6 hours   \n",
              "3    Male   23              1                  4  More than 8 hours   \n",
              "4  Female   31              1                  5  More than 8 hours   \n",
              "\n",
              "  dietary_habits  suicidal_thoughts  work_hours  financial_stress  \\\n",
              "0       Moderate               True           9                 2   \n",
              "1        Healthy               True           7                 1   \n",
              "2      Unhealthy               True          10                 4   \n",
              "3      Unhealthy               True           7                 2   \n",
              "4        Healthy               True           4                 2   \n",
              "\n",
              "   family_mental_illness_history  depression  dataset  \n",
              "0                           True       False  Student  \n",
              "1                           True       False  Student  \n",
              "2                          False        True  Student  \n",
              "3                           True       False  Student  \n",
              "4                           True       False  Student  "
            ]
          },
          "execution_count": 23,
          "metadata": {},
          "output_type": "execute_result"
        }
      ],
      "source": [
        "combined_df.head()"
      ]
    },
    {
      "cell_type": "code",
      "execution_count": 24,
      "metadata": {},
      "outputs": [],
      "source": [
        "from model.FactDepression import FACT_DEPRESSION"
      ]
    },
    {
      "cell_type": "code",
      "execution_count": null,
      "metadata": {
        "colab": {
          "base_uri": "https://localhost:8080/",
          "height": 17
        },
        "id": "U150Jq4y_r-e",
        "outputId": "0f93910e-deeb-4c36-f4cf-63aa8dc159e6"
      },
      "outputs": [
        {
          "name": "stdout",
          "output_type": "stream",
          "text": [
            "adding record: 0\n",
            "adding record: 1\n",
            "adding record: 2\n",
            "adding record: 3\n",
            "adding record: 4\n",
            "adding record: 5\n",
            "adding record: 6\n",
            "adding record: 7\n",
            "adding record: 8\n",
            "adding record: 9\n",
            "adding record: 10\n",
            "adding record: 11\n",
            "adding record: 12\n",
            "adding record: 13\n",
            "adding record: 14\n",
            "adding record: 15\n",
            "adding record: 16\n",
            "adding record: 17\n",
            "adding record: 18\n",
            "adding record: 19\n",
            "adding record: 20\n",
            "adding record: 21\n",
            "adding record: 22\n",
            "adding record: 23\n",
            "adding record: 24\n",
            "adding record: 25\n"
          ]
        },
        {
          "ename": "KeyboardInterrupt",
          "evalue": "",
          "output_type": "error",
          "traceback": [
            "\u001b[31m---------------------------------------------------------------------------\u001b[39m",
            "\u001b[31mKeyboardInterrupt\u001b[39m                         Traceback (most recent call last)",
            "\u001b[36mCell\u001b[39m\u001b[36m \u001b[39m\u001b[32mIn[25]\u001b[39m\u001b[32m, line 5\u001b[39m\n\u001b[32m      3\u001b[39m data_dict = row.to_dict()  \u001b[38;5;66;03m# ✅ Convert row to dictionary\u001b[39;00m\n\u001b[32m      4\u001b[39m \u001b[38;5;28mprint\u001b[39m(\u001b[33m'\u001b[39m\u001b[33madding record:\u001b[39m\u001b[33m'\u001b[39m, key)\n\u001b[32m----> \u001b[39m\u001b[32m5\u001b[39m \u001b[43mFACT_DEPRESSION\u001b[49m\u001b[43m.\u001b[49m\u001b[43madd_record\u001b[49m\u001b[43m(\u001b[49m\u001b[43mdata_dict\u001b[49m\u001b[43m)\u001b[49m  \u001b[38;5;66;03m# ✅ Add record using existing function\u001b[39;00m\n",
            "\u001b[36mFile \u001b[39m\u001b[32me:\\coding\\DataWarehouse\\.venv\\Lib\\site-packages\\tenacity\\__init__.py:336\u001b[39m, in \u001b[36mBaseRetrying.wraps.<locals>.wrapped_f\u001b[39m\u001b[34m(*args, **kw)\u001b[39m\n\u001b[32m    334\u001b[39m copy = \u001b[38;5;28mself\u001b[39m.copy()\n\u001b[32m    335\u001b[39m wrapped_f.statistics = copy.statistics  \u001b[38;5;66;03m# type: ignore[attr-defined]\u001b[39;00m\n\u001b[32m--> \u001b[39m\u001b[32m336\u001b[39m \u001b[38;5;28;01mreturn\u001b[39;00m \u001b[43mcopy\u001b[49m\u001b[43m(\u001b[49m\u001b[43mf\u001b[49m\u001b[43m,\u001b[49m\u001b[43m \u001b[49m\u001b[43m*\u001b[49m\u001b[43margs\u001b[49m\u001b[43m,\u001b[49m\u001b[43m \u001b[49m\u001b[43m*\u001b[49m\u001b[43m*\u001b[49m\u001b[43mkw\u001b[49m\u001b[43m)\u001b[49m\n",
            "\u001b[36mFile \u001b[39m\u001b[32me:\\coding\\DataWarehouse\\.venv\\Lib\\site-packages\\tenacity\\__init__.py:475\u001b[39m, in \u001b[36mRetrying.__call__\u001b[39m\u001b[34m(self, fn, *args, **kwargs)\u001b[39m\n\u001b[32m    473\u001b[39m retry_state = RetryCallState(retry_object=\u001b[38;5;28mself\u001b[39m, fn=fn, args=args, kwargs=kwargs)\n\u001b[32m    474\u001b[39m \u001b[38;5;28;01mwhile\u001b[39;00m \u001b[38;5;28;01mTrue\u001b[39;00m:\n\u001b[32m--> \u001b[39m\u001b[32m475\u001b[39m     do = \u001b[38;5;28;43mself\u001b[39;49m\u001b[43m.\u001b[49m\u001b[43miter\u001b[49m\u001b[43m(\u001b[49m\u001b[43mretry_state\u001b[49m\u001b[43m=\u001b[49m\u001b[43mretry_state\u001b[49m\u001b[43m)\u001b[49m\n\u001b[32m    476\u001b[39m     \u001b[38;5;28;01mif\u001b[39;00m \u001b[38;5;28misinstance\u001b[39m(do, DoAttempt):\n\u001b[32m    477\u001b[39m         \u001b[38;5;28;01mtry\u001b[39;00m:\n",
            "\u001b[36mFile \u001b[39m\u001b[32me:\\coding\\DataWarehouse\\.venv\\Lib\\site-packages\\tenacity\\__init__.py:376\u001b[39m, in \u001b[36mBaseRetrying.iter\u001b[39m\u001b[34m(self, retry_state)\u001b[39m\n\u001b[32m    374\u001b[39m result = \u001b[38;5;28;01mNone\u001b[39;00m\n\u001b[32m    375\u001b[39m \u001b[38;5;28;01mfor\u001b[39;00m action \u001b[38;5;129;01min\u001b[39;00m \u001b[38;5;28mself\u001b[39m.iter_state.actions:\n\u001b[32m--> \u001b[39m\u001b[32m376\u001b[39m     result = \u001b[43maction\u001b[49m\u001b[43m(\u001b[49m\u001b[43mretry_state\u001b[49m\u001b[43m)\u001b[49m\n\u001b[32m    377\u001b[39m \u001b[38;5;28;01mreturn\u001b[39;00m result\n",
            "\u001b[36mFile \u001b[39m\u001b[32me:\\coding\\DataWarehouse\\.venv\\Lib\\site-packages\\tenacity\\__init__.py:398\u001b[39m, in \u001b[36mBaseRetrying._post_retry_check_actions.<locals>.<lambda>\u001b[39m\u001b[34m(rs)\u001b[39m\n\u001b[32m    396\u001b[39m \u001b[38;5;28;01mdef\u001b[39;00m\u001b[38;5;250m \u001b[39m\u001b[34m_post_retry_check_actions\u001b[39m(\u001b[38;5;28mself\u001b[39m, retry_state: \u001b[33m\"\u001b[39m\u001b[33mRetryCallState\u001b[39m\u001b[33m\"\u001b[39m) -> \u001b[38;5;28;01mNone\u001b[39;00m:\n\u001b[32m    397\u001b[39m     \u001b[38;5;28;01mif\u001b[39;00m \u001b[38;5;129;01mnot\u001b[39;00m (\u001b[38;5;28mself\u001b[39m.iter_state.is_explicit_retry \u001b[38;5;129;01mor\u001b[39;00m \u001b[38;5;28mself\u001b[39m.iter_state.retry_run_result):\n\u001b[32m--> \u001b[39m\u001b[32m398\u001b[39m         \u001b[38;5;28mself\u001b[39m._add_action_func(\u001b[38;5;28;01mlambda\u001b[39;00m rs: \u001b[43mrs\u001b[49m\u001b[43m.\u001b[49m\u001b[43moutcome\u001b[49m\u001b[43m.\u001b[49m\u001b[43mresult\u001b[49m\u001b[43m(\u001b[49m\u001b[43m)\u001b[49m)\n\u001b[32m    399\u001b[39m         \u001b[38;5;28;01mreturn\u001b[39;00m\n\u001b[32m    401\u001b[39m     \u001b[38;5;28;01mif\u001b[39;00m \u001b[38;5;28mself\u001b[39m.after \u001b[38;5;129;01mis\u001b[39;00m \u001b[38;5;129;01mnot\u001b[39;00m \u001b[38;5;28;01mNone\u001b[39;00m:\n",
            "\u001b[36mFile \u001b[39m\u001b[32mC:\\Program Files\\Python312\\Lib\\concurrent\\futures\\_base.py:449\u001b[39m, in \u001b[36mFuture.result\u001b[39m\u001b[34m(self, timeout)\u001b[39m\n\u001b[32m    447\u001b[39m     \u001b[38;5;28;01mraise\u001b[39;00m CancelledError()\n\u001b[32m    448\u001b[39m \u001b[38;5;28;01melif\u001b[39;00m \u001b[38;5;28mself\u001b[39m._state == FINISHED:\n\u001b[32m--> \u001b[39m\u001b[32m449\u001b[39m     \u001b[38;5;28;01mreturn\u001b[39;00m \u001b[38;5;28;43mself\u001b[39;49m\u001b[43m.\u001b[49m\u001b[43m__get_result\u001b[49m\u001b[43m(\u001b[49m\u001b[43m)\u001b[49m\n\u001b[32m    451\u001b[39m \u001b[38;5;28mself\u001b[39m._condition.wait(timeout)\n\u001b[32m    453\u001b[39m \u001b[38;5;28;01mif\u001b[39;00m \u001b[38;5;28mself\u001b[39m._state \u001b[38;5;129;01min\u001b[39;00m [CANCELLED, CANCELLED_AND_NOTIFIED]:\n",
            "\u001b[36mFile \u001b[39m\u001b[32mC:\\Program Files\\Python312\\Lib\\concurrent\\futures\\_base.py:401\u001b[39m, in \u001b[36mFuture.__get_result\u001b[39m\u001b[34m(self)\u001b[39m\n\u001b[32m    399\u001b[39m \u001b[38;5;28;01mif\u001b[39;00m \u001b[38;5;28mself\u001b[39m._exception:\n\u001b[32m    400\u001b[39m     \u001b[38;5;28;01mtry\u001b[39;00m:\n\u001b[32m--> \u001b[39m\u001b[32m401\u001b[39m         \u001b[38;5;28;01mraise\u001b[39;00m \u001b[38;5;28mself\u001b[39m._exception\n\u001b[32m    402\u001b[39m     \u001b[38;5;28;01mfinally\u001b[39;00m:\n\u001b[32m    403\u001b[39m         \u001b[38;5;66;03m# Break a reference cycle with the exception in self._exception\u001b[39;00m\n\u001b[32m    404\u001b[39m         \u001b[38;5;28mself\u001b[39m = \u001b[38;5;28;01mNone\u001b[39;00m\n",
            "\u001b[36mFile \u001b[39m\u001b[32me:\\coding\\DataWarehouse\\.venv\\Lib\\site-packages\\tenacity\\__init__.py:478\u001b[39m, in \u001b[36mRetrying.__call__\u001b[39m\u001b[34m(self, fn, *args, **kwargs)\u001b[39m\n\u001b[32m    476\u001b[39m \u001b[38;5;28;01mif\u001b[39;00m \u001b[38;5;28misinstance\u001b[39m(do, DoAttempt):\n\u001b[32m    477\u001b[39m     \u001b[38;5;28;01mtry\u001b[39;00m:\n\u001b[32m--> \u001b[39m\u001b[32m478\u001b[39m         result = \u001b[43mfn\u001b[49m\u001b[43m(\u001b[49m\u001b[43m*\u001b[49m\u001b[43margs\u001b[49m\u001b[43m,\u001b[49m\u001b[43m \u001b[49m\u001b[43m*\u001b[49m\u001b[43m*\u001b[49m\u001b[43mkwargs\u001b[49m\u001b[43m)\u001b[49m\n\u001b[32m    479\u001b[39m     \u001b[38;5;28;01mexcept\u001b[39;00m \u001b[38;5;167;01mBaseException\u001b[39;00m:  \u001b[38;5;66;03m# noqa: B902\u001b[39;00m\n\u001b[32m    480\u001b[39m         retry_state.set_exception(sys.exc_info())  \u001b[38;5;66;03m# type: ignore[arg-type]\u001b[39;00m\n",
            "\u001b[36mFile \u001b[39m\u001b[32me:\\coding\\DataWarehouse\\model\\FactDepression.py:52\u001b[39m, in \u001b[36mFACT_DEPRESSION.add_record\u001b[39m\u001b[34m(cls, data)\u001b[39m\n\u001b[32m     50\u001b[39m \u001b[38;5;28;01mfor\u001b[39;00m key, model \u001b[38;5;129;01min\u001b[39;00m dimension_mapping.items():\n\u001b[32m     51\u001b[39m     \u001b[38;5;28;01mif\u001b[39;00m key \u001b[38;5;129;01min\u001b[39;00m data:\n\u001b[32m---> \u001b[39m\u001b[32m52\u001b[39m         record = \u001b[43mmodel\u001b[49m\u001b[43m.\u001b[49m\u001b[43mget_or_create\u001b[49m\u001b[43m(\u001b[49m\u001b[43m*\u001b[49m\u001b[43m*\u001b[49m\u001b[43m{\u001b[49m\u001b[43mkey\u001b[49m\u001b[43m:\u001b[49m\u001b[43m \u001b[49m\u001b[43mdata\u001b[49m\u001b[43m[\u001b[49m\u001b[43mkey\u001b[49m\u001b[43m]\u001b[49m\u001b[43m}\u001b[49m\u001b[43m)\u001b[49m.to_dict()\n\u001b[32m     53\u001b[39m         \u001b[38;5;28;01mif\u001b[39;00m record:\n\u001b[32m     54\u001b[39m             record_ids[\u001b[33mf\u001b[39m\u001b[33m\"\u001b[39m\u001b[38;5;132;01m{\u001b[39;00mkey\u001b[38;5;132;01m}\u001b[39;00m\u001b[33m_id\u001b[39m\u001b[33m\"\u001b[39m] = record[\u001b[33m'\u001b[39m\u001b[33mid\u001b[39m\u001b[33m'\u001b[39m]\n",
            "\u001b[36mFile \u001b[39m\u001b[32me:\\coding\\DataWarehouse\\model\\BaseModel.py:38\u001b[39m, in \u001b[36mBaseModel.get_or_create\u001b[39m\u001b[34m(cls, defaults, **kwargs)\u001b[39m\n\u001b[32m     36\u001b[39m instance = session.query(\u001b[38;5;28mcls\u001b[39m.get_model()).filter_by(**kwargs).first()\n\u001b[32m     37\u001b[39m \u001b[38;5;28;01mif\u001b[39;00m instance:\n\u001b[32m---> \u001b[39m\u001b[32m38\u001b[39m     \u001b[43msession\u001b[49m\u001b[43m.\u001b[49m\u001b[43mclose\u001b[49m\u001b[43m(\u001b[49m\u001b[43m)\u001b[49m\n\u001b[32m     39\u001b[39m     \u001b[38;5;28;01mreturn\u001b[39;00m QueryResultWrapper(instance, \u001b[38;5;28mcls\u001b[39m)  \u001b[38;5;66;03m# Found existing record\u001b[39;00m\n\u001b[32m     41\u001b[39m params = {**kwargs, **(defaults \u001b[38;5;129;01mor\u001b[39;00m {})}\n",
            "\u001b[36mFile \u001b[39m\u001b[32me:\\coding\\DataWarehouse\\.venv\\Lib\\site-packages\\sqlalchemy\\orm\\session.py:2521\u001b[39m, in \u001b[36mSession.close\u001b[39m\u001b[34m(self)\u001b[39m\n\u001b[32m   2482\u001b[39m \u001b[38;5;28;01mdef\u001b[39;00m\u001b[38;5;250m \u001b[39m\u001b[34mclose\u001b[39m(\u001b[38;5;28mself\u001b[39m) -> \u001b[38;5;28;01mNone\u001b[39;00m:\n\u001b[32m   2483\u001b[39m \u001b[38;5;250m    \u001b[39m\u001b[33;03m\"\"\"Close out the transactional resources and ORM objects used by this\u001b[39;00m\n\u001b[32m   2484\u001b[39m \u001b[33;03m    :class:`_orm.Session`.\u001b[39;00m\n\u001b[32m   2485\u001b[39m \n\u001b[32m   (...)\u001b[39m\u001b[32m   2519\u001b[39m \n\u001b[32m   2520\u001b[39m \u001b[33;03m    \"\"\"\u001b[39;00m\n\u001b[32m-> \u001b[39m\u001b[32m2521\u001b[39m     \u001b[38;5;28;43mself\u001b[39;49m\u001b[43m.\u001b[49m\u001b[43m_close_impl\u001b[49m\u001b[43m(\u001b[49m\u001b[43minvalidate\u001b[49m\u001b[43m=\u001b[49m\u001b[38;5;28;43;01mFalse\u001b[39;49;00m\u001b[43m)\u001b[49m\n",
            "\u001b[36mFile \u001b[39m\u001b[32me:\\coding\\DataWarehouse\\.venv\\Lib\\site-packages\\sqlalchemy\\orm\\session.py:2590\u001b[39m, in \u001b[36mSession._close_impl\u001b[39m\u001b[34m(self, invalidate, is_reset)\u001b[39m\n\u001b[32m   2588\u001b[39m \u001b[38;5;28;01mif\u001b[39;00m \u001b[38;5;28mself\u001b[39m._transaction \u001b[38;5;129;01mis\u001b[39;00m \u001b[38;5;129;01mnot\u001b[39;00m \u001b[38;5;28;01mNone\u001b[39;00m:\n\u001b[32m   2589\u001b[39m     \u001b[38;5;28;01mfor\u001b[39;00m transaction \u001b[38;5;129;01min\u001b[39;00m \u001b[38;5;28mself\u001b[39m._transaction._iterate_self_and_parents():\n\u001b[32m-> \u001b[39m\u001b[32m2590\u001b[39m         \u001b[43mtransaction\u001b[49m\u001b[43m.\u001b[49m\u001b[43mclose\u001b[49m\u001b[43m(\u001b[49m\u001b[43minvalidate\u001b[49m\u001b[43m)\u001b[49m\n",
            "\u001b[36mFile \u001b[39m\u001b[32m<string>:2\u001b[39m, in \u001b[36mclose\u001b[39m\u001b[34m(self, invalidate)\u001b[39m\n",
            "\u001b[36mFile \u001b[39m\u001b[32me:\\coding\\DataWarehouse\\.venv\\Lib\\site-packages\\sqlalchemy\\orm\\state_changes.py:139\u001b[39m, in \u001b[36m_StateChange.declare_states.<locals>._go\u001b[39m\u001b[34m(fn, self, *arg, **kw)\u001b[39m\n\u001b[32m    137\u001b[39m \u001b[38;5;28mself\u001b[39m._next_state = _StateChangeStates.CHANGE_IN_PROGRESS\n\u001b[32m    138\u001b[39m \u001b[38;5;28;01mtry\u001b[39;00m:\n\u001b[32m--> \u001b[39m\u001b[32m139\u001b[39m     ret_value = \u001b[43mfn\u001b[49m\u001b[43m(\u001b[49m\u001b[38;5;28;43mself\u001b[39;49m\u001b[43m,\u001b[49m\u001b[43m \u001b[49m\u001b[43m*\u001b[49m\u001b[43marg\u001b[49m\u001b[43m,\u001b[49m\u001b[43m \u001b[49m\u001b[43m*\u001b[49m\u001b[43m*\u001b[49m\u001b[43mkw\u001b[49m\u001b[43m)\u001b[49m\n\u001b[32m    140\u001b[39m \u001b[38;5;28;01mexcept\u001b[39;00m:\n\u001b[32m    141\u001b[39m     \u001b[38;5;28;01mraise\u001b[39;00m\n",
            "\u001b[36mFile \u001b[39m\u001b[32me:\\coding\\DataWarehouse\\.venv\\Lib\\site-packages\\sqlalchemy\\orm\\session.py:1419\u001b[39m, in \u001b[36mSessionTransaction.close\u001b[39m\u001b[34m(self, invalidate)\u001b[39m\n\u001b[32m   1417\u001b[39m     connection.invalidate()\n\u001b[32m   1418\u001b[39m \u001b[38;5;28;01mif\u001b[39;00m should_commit \u001b[38;5;129;01mand\u001b[39;00m transaction.is_active:\n\u001b[32m-> \u001b[39m\u001b[32m1419\u001b[39m     \u001b[43mtransaction\u001b[49m\u001b[43m.\u001b[49m\u001b[43mclose\u001b[49m\u001b[43m(\u001b[49m\u001b[43m)\u001b[49m\n\u001b[32m   1420\u001b[39m \u001b[38;5;28;01mif\u001b[39;00m autoclose \u001b[38;5;129;01mand\u001b[39;00m \u001b[38;5;28mself\u001b[39m._parent \u001b[38;5;129;01mis\u001b[39;00m \u001b[38;5;28;01mNone\u001b[39;00m:\n\u001b[32m   1421\u001b[39m     connection.close()\n",
            "\u001b[36mFile \u001b[39m\u001b[32me:\\coding\\DataWarehouse\\.venv\\Lib\\site-packages\\sqlalchemy\\engine\\base.py:2586\u001b[39m, in \u001b[36mTransaction.close\u001b[39m\u001b[34m(self)\u001b[39m\n\u001b[32m   2575\u001b[39m \u001b[38;5;250m\u001b[39m\u001b[33;03m\"\"\"Close this :class:`.Transaction`.\u001b[39;00m\n\u001b[32m   2576\u001b[39m \n\u001b[32m   2577\u001b[39m \u001b[33;03mIf this transaction is the base transaction in a begin/commit\u001b[39;00m\n\u001b[32m   (...)\u001b[39m\u001b[32m   2583\u001b[39m \n\u001b[32m   2584\u001b[39m \u001b[33;03m\"\"\"\u001b[39;00m\n\u001b[32m   2585\u001b[39m \u001b[38;5;28;01mtry\u001b[39;00m:\n\u001b[32m-> \u001b[39m\u001b[32m2586\u001b[39m     \u001b[38;5;28;43mself\u001b[39;49m\u001b[43m.\u001b[49m\u001b[43m_do_close\u001b[49m\u001b[43m(\u001b[49m\u001b[43m)\u001b[49m\n\u001b[32m   2587\u001b[39m \u001b[38;5;28;01mfinally\u001b[39;00m:\n\u001b[32m   2588\u001b[39m     \u001b[38;5;28;01massert\u001b[39;00m \u001b[38;5;129;01mnot\u001b[39;00m \u001b[38;5;28mself\u001b[39m.is_active\n",
            "\u001b[36mFile \u001b[39m\u001b[32me:\\coding\\DataWarehouse\\.venv\\Lib\\site-packages\\sqlalchemy\\engine\\base.py:2724\u001b[39m, in \u001b[36mRootTransaction._do_close\u001b[39m\u001b[34m(self)\u001b[39m\n\u001b[32m   2723\u001b[39m \u001b[38;5;28;01mdef\u001b[39;00m\u001b[38;5;250m \u001b[39m\u001b[34m_do_close\u001b[39m(\u001b[38;5;28mself\u001b[39m) -> \u001b[38;5;28;01mNone\u001b[39;00m:\n\u001b[32m-> \u001b[39m\u001b[32m2724\u001b[39m     \u001b[38;5;28;43mself\u001b[39;49m\u001b[43m.\u001b[49m\u001b[43m_close_impl\u001b[49m\u001b[43m(\u001b[49m\u001b[43m)\u001b[49m\n",
            "\u001b[36mFile \u001b[39m\u001b[32me:\\coding\\DataWarehouse\\.venv\\Lib\\site-packages\\sqlalchemy\\engine\\base.py:2710\u001b[39m, in \u001b[36mRootTransaction._close_impl\u001b[39m\u001b[34m(self, try_deactivate)\u001b[39m\n\u001b[32m   2708\u001b[39m \u001b[38;5;28;01mtry\u001b[39;00m:\n\u001b[32m   2709\u001b[39m     \u001b[38;5;28;01mif\u001b[39;00m \u001b[38;5;28mself\u001b[39m.is_active:\n\u001b[32m-> \u001b[39m\u001b[32m2710\u001b[39m         \u001b[38;5;28;43mself\u001b[39;49m\u001b[43m.\u001b[49m\u001b[43m_connection_rollback_impl\u001b[49m\u001b[43m(\u001b[49m\u001b[43m)\u001b[49m\n\u001b[32m   2712\u001b[39m     \u001b[38;5;28;01mif\u001b[39;00m \u001b[38;5;28mself\u001b[39m.connection._nested_transaction:\n\u001b[32m   2713\u001b[39m         \u001b[38;5;28mself\u001b[39m.connection._nested_transaction._cancel()\n",
            "\u001b[36mFile \u001b[39m\u001b[32me:\\coding\\DataWarehouse\\.venv\\Lib\\site-packages\\sqlalchemy\\engine\\base.py:2702\u001b[39m, in \u001b[36mRootTransaction._connection_rollback_impl\u001b[39m\u001b[34m(self)\u001b[39m\n\u001b[32m   2701\u001b[39m \u001b[38;5;28;01mdef\u001b[39;00m\u001b[38;5;250m \u001b[39m\u001b[34m_connection_rollback_impl\u001b[39m(\u001b[38;5;28mself\u001b[39m) -> \u001b[38;5;28;01mNone\u001b[39;00m:\n\u001b[32m-> \u001b[39m\u001b[32m2702\u001b[39m     \u001b[38;5;28;43mself\u001b[39;49m\u001b[43m.\u001b[49m\u001b[43mconnection\u001b[49m\u001b[43m.\u001b[49m\u001b[43m_rollback_impl\u001b[49m\u001b[43m(\u001b[49m\u001b[43m)\u001b[49m\n",
            "\u001b[36mFile \u001b[39m\u001b[32me:\\coding\\DataWarehouse\\.venv\\Lib\\site-packages\\sqlalchemy\\engine\\base.py:1127\u001b[39m, in \u001b[36mConnection._rollback_impl\u001b[39m\u001b[34m(self)\u001b[39m\n\u001b[32m   1125\u001b[39m     \u001b[38;5;28mself\u001b[39m.engine.dialect.do_rollback(\u001b[38;5;28mself\u001b[39m.connection)\n\u001b[32m   1126\u001b[39m \u001b[38;5;28;01mexcept\u001b[39;00m \u001b[38;5;167;01mBaseException\u001b[39;00m \u001b[38;5;28;01mas\u001b[39;00m e:\n\u001b[32m-> \u001b[39m\u001b[32m1127\u001b[39m     \u001b[38;5;28;43mself\u001b[39;49m\u001b[43m.\u001b[49m\u001b[43m_handle_dbapi_exception\u001b[49m\u001b[43m(\u001b[49m\u001b[43me\u001b[49m\u001b[43m,\u001b[49m\u001b[43m \u001b[49m\u001b[38;5;28;43;01mNone\u001b[39;49;00m\u001b[43m,\u001b[49m\u001b[43m \u001b[49m\u001b[38;5;28;43;01mNone\u001b[39;49;00m\u001b[43m,\u001b[49m\u001b[43m \u001b[49m\u001b[38;5;28;43;01mNone\u001b[39;49;00m\u001b[43m,\u001b[49m\u001b[43m \u001b[49m\u001b[38;5;28;43;01mNone\u001b[39;49;00m\u001b[43m)\u001b[49m\n",
            "\u001b[36mFile \u001b[39m\u001b[32me:\\coding\\DataWarehouse\\.venv\\Lib\\site-packages\\sqlalchemy\\engine\\base.py:2355\u001b[39m, in \u001b[36mConnection._handle_dbapi_exception\u001b[39m\u001b[34m(self, e, statement, parameters, cursor, context, is_sub_exec)\u001b[39m\n\u001b[32m   2353\u001b[39m     \u001b[38;5;28;01melse\u001b[39;00m:\n\u001b[32m   2354\u001b[39m         \u001b[38;5;28;01massert\u001b[39;00m exc_info[\u001b[32m1\u001b[39m] \u001b[38;5;129;01mis\u001b[39;00m \u001b[38;5;129;01mnot\u001b[39;00m \u001b[38;5;28;01mNone\u001b[39;00m\n\u001b[32m-> \u001b[39m\u001b[32m2355\u001b[39m         \u001b[38;5;28;01mraise\u001b[39;00m exc_info[\u001b[32m1\u001b[39m].with_traceback(exc_info[\u001b[32m2\u001b[39m])\n\u001b[32m   2356\u001b[39m \u001b[38;5;28;01mfinally\u001b[39;00m:\n\u001b[32m   2357\u001b[39m     \u001b[38;5;28;01mdel\u001b[39;00m \u001b[38;5;28mself\u001b[39m._reentrant_error\n",
            "\u001b[36mFile \u001b[39m\u001b[32me:\\coding\\DataWarehouse\\.venv\\Lib\\site-packages\\sqlalchemy\\engine\\base.py:1125\u001b[39m, in \u001b[36mConnection._rollback_impl\u001b[39m\u001b[34m(self)\u001b[39m\n\u001b[32m   1123\u001b[39m         \u001b[38;5;28mself\u001b[39m._log_info(\u001b[33m\"\u001b[39m\u001b[33mROLLBACK\u001b[39m\u001b[33m\"\u001b[39m)\n\u001b[32m   1124\u001b[39m \u001b[38;5;28;01mtry\u001b[39;00m:\n\u001b[32m-> \u001b[39m\u001b[32m1125\u001b[39m     \u001b[38;5;28;43mself\u001b[39;49m\u001b[43m.\u001b[49m\u001b[43mengine\u001b[49m\u001b[43m.\u001b[49m\u001b[43mdialect\u001b[49m\u001b[43m.\u001b[49m\u001b[43mdo_rollback\u001b[49m\u001b[43m(\u001b[49m\u001b[38;5;28;43mself\u001b[39;49m\u001b[43m.\u001b[49m\u001b[43mconnection\u001b[49m\u001b[43m)\u001b[49m\n\u001b[32m   1126\u001b[39m \u001b[38;5;28;01mexcept\u001b[39;00m \u001b[38;5;167;01mBaseException\u001b[39;00m \u001b[38;5;28;01mas\u001b[39;00m e:\n\u001b[32m   1127\u001b[39m     \u001b[38;5;28mself\u001b[39m._handle_dbapi_exception(e, \u001b[38;5;28;01mNone\u001b[39;00m, \u001b[38;5;28;01mNone\u001b[39;00m, \u001b[38;5;28;01mNone\u001b[39;00m, \u001b[38;5;28;01mNone\u001b[39;00m)\n",
            "\u001b[36mFile \u001b[39m\u001b[32me:\\coding\\DataWarehouse\\.venv\\Lib\\site-packages\\sqlalchemy\\engine\\default.py:703\u001b[39m, in \u001b[36mDefaultDialect.do_rollback\u001b[39m\u001b[34m(self, dbapi_connection)\u001b[39m\n\u001b[32m    702\u001b[39m \u001b[38;5;28;01mdef\u001b[39;00m\u001b[38;5;250m \u001b[39m\u001b[34mdo_rollback\u001b[39m(\u001b[38;5;28mself\u001b[39m, dbapi_connection):\n\u001b[32m--> \u001b[39m\u001b[32m703\u001b[39m     \u001b[43mdbapi_connection\u001b[49m\u001b[43m.\u001b[49m\u001b[43mrollback\u001b[49m\u001b[43m(\u001b[49m\u001b[43m)\u001b[49m\n",
            "\u001b[31mKeyboardInterrupt\u001b[39m: "
          ]
        }
      ],
      "source": [
        "# # Step 6: Load to database\n",
        "for key, row in combined_df.iterrows():  # ✅ Iterate through each row\n",
        "    data_dict = row.to_dict()  # ✅ Convert row to dictionary\n",
        "    print('adding record:', key)\n",
        "    \n",
        "    FACT_DEPRESSION.add_record(data_dict)  # ✅ Add record using existing function"
      ]
    }
  ],
  "metadata": {
    "colab": {
      "provenance": []
    },
    "kernelspec": {
      "display_name": ".venv",
      "language": "python",
      "name": "python3"
    },
    "language_info": {
      "codemirror_mode": {
        "name": "ipython",
        "version": 3
      },
      "file_extension": ".py",
      "mimetype": "text/x-python",
      "name": "python",
      "nbconvert_exporter": "python",
      "pygments_lexer": "ipython3",
      "version": "3.12.0"
    }
  },
  "nbformat": 4,
  "nbformat_minor": 0
}
